{
 "cells": [
  {
   "cell_type": "code",
   "execution_count": 1,
   "metadata": {},
   "outputs": [],
   "source": [
    "import os "
   ]
  },
  {
   "cell_type": "code",
   "execution_count": 2,
   "metadata": {},
   "outputs": [
    {
     "data": {
      "text/plain": [
       "'root\\\\user\\\\apps'"
      ]
     },
     "execution_count": 2,
     "metadata": {},
     "output_type": "execute_result"
    }
   ],
   "source": [
    "# 拼接路径\n",
    "os.path.join('root', 'user', 'apps')"
   ]
  },
  {
   "cell_type": "code",
   "execution_count": 3,
   "metadata": {},
   "outputs": [
    {
     "name": "stdout",
     "output_type": "stream",
     "text": [
      "C:\\users\\asweigatr\\accounts.txt\n",
      "C:\\users\\asweigatr\\details.txt\n",
      "C:\\users\\asweigatr\\invite.txt\n"
     ]
    }
   ],
   "source": [
    "my_files = ['accounts.txt', 'details.txt', 'invite.txt']\n",
    "for filename in my_files:\n",
    "    print(os.path.join('C:\\\\users\\\\asweigatr', filename))"
   ]
  },
  {
   "cell_type": "code",
   "execution_count": 4,
   "metadata": {},
   "outputs": [
    {
     "data": {
      "text/plain": [
       "'f:\\\\Documents\\\\LocalRepository\\\\python3\\\\scripts'"
      ]
     },
     "execution_count": 4,
     "metadata": {},
     "output_type": "execute_result"
    }
   ],
   "source": [
    "# 当前工作目录\n",
    "os.getcwd()"
   ]
  },
  {
   "cell_type": "code",
   "execution_count": 5,
   "metadata": {},
   "outputs": [],
   "source": [
    "# 修改当前工作目录\n",
    "# os.chdir('D:\\\\Apps')\n",
    "# os.getcwd()"
   ]
  },
  {
   "cell_type": "code",
   "execution_count": 6,
   "metadata": {},
   "outputs": [],
   "source": [
    "# 创建文件夹\n",
    "# os.makedirs('.\\\\test\\\\test1')"
   ]
  },
  {
   "cell_type": "code",
   "execution_count": 12,
   "metadata": {},
   "outputs": [
    {
     "data": {
      "text/plain": [
       "'..\\\\python3\\\\data'"
      ]
     },
     "execution_count": 12,
     "metadata": {},
     "output_type": "execute_result"
    }
   ],
   "source": [
    "# 相对路径转换为绝对路径\n",
    "# os.path.abspath('.')  # 'f:\\\\Documents\\\\LocalRepository\\\\python3\\\\scripts'\n",
    "# 判断是否是绝对路径\n",
    "# os.path.isabs('.')  # False \n",
    "# 返回从 start 到 path的相对路径字符串；start默认是当前路径；不能跨盘，如获取从C盘到D盘的相对路径\n",
    "os.path.relpath(path=r'F:\\Documents\\LocalRepository\\python3\\data', start=r'F:\\Documents\\LocalRepository\\data-theory')  # '..\\\\python3\\\\data'"
   ]
  },
  {
   "cell_type": "code",
   "execution_count": 16,
   "metadata": {},
   "outputs": [
    {
     "data": {
      "text/plain": [
       "'data'"
      ]
     },
     "execution_count": 16,
     "metadata": {},
     "output_type": "execute_result"
    }
   ],
   "source": [
    "# 获取path的当前目录和当前目录之前的路径\n",
    "path = r'F:\\Documents\\LocalRepository\\python3\\data'\n",
    "# os.path.basename(path)\n",
    "# os.path.dirname(path)\n",
    "# os.path.split(path)"
   ]
  },
  {
   "cell_type": "code",
   "execution_count": 17,
   "metadata": {},
   "outputs": [
    {
     "data": {
      "text/plain": [
       "'\\\\'"
      ]
     },
     "execution_count": 17,
     "metadata": {},
     "output_type": "execute_result"
    }
   ],
   "source": [
    "# 获取文件夹分割斜杠\n",
    "os.path.sep  # '\\\\'"
   ]
  },
  {
   "cell_type": "code",
   "execution_count": 18,
   "metadata": {},
   "outputs": [],
   "source": [
    "# 文件夹内容和文件大小\n",
    "# path = ''\n",
    "# os.listdir(path)  # 返回一个list\n",
    "# os.path.getsize(path)"
   ]
  },
  {
   "cell_type": "code",
   "execution_count": null,
   "metadata": {},
   "outputs": [],
   "source": [
    "# 检查路径的有效性 \n",
    "# path = ''\n",
    "# os.path.exists(path) \n",
    "# os.path.isfile(path)\n",
    "# os.path.isdir(path)"
   ]
  }
 ],
 "metadata": {
  "kernelspec": {
   "display_name": "Python 3",
   "language": "python",
   "name": "python3"
  },
  "language_info": {
   "codemirror_mode": {
    "name": "ipython",
    "version": 3
   },
   "file_extension": ".py",
   "mimetype": "text/x-python",
   "name": "python",
   "nbconvert_exporter": "python",
   "pygments_lexer": "ipython3",
   "version": "3.7.3"
  }
 },
 "nbformat": 4,
 "nbformat_minor": 2
}
