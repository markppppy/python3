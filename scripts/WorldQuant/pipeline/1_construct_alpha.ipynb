{
 "cells": [
  {
   "cell_type": "code",
   "execution_count": 6,
   "id": "87b82ffd",
   "metadata": {},
   "outputs": [],
   "source": [
    "import sys \n",
    "sys.path.append(\"..\")\n",
    "from tools25 import *"
   ]
  },
  {
   "cell_type": "code",
   "execution_count": 7,
   "id": "8f119cff",
   "metadata": {},
   "outputs": [],
   "source": [
    "# 按模板构造alpha，并和配置参数封装，然后写入文件\n",
    "# 封装后的 alpha_list 命名格式: alpha_template_id_padding_list.txt"
   ]
  },
  {
   "cell_type": "code",
   "execution_count": 8,
   "id": "f6e13894",
   "metadata": {},
   "outputs": [],
   "source": [
    "s = login()\n",
    "\n",
    "# 获取指定数据集指定类型字段 的id \n",
    "datafields = get_datafields(s, dataset_id='analyst4')  # fundamental6 option9 analyst4  \n",
    "datafields_filter = datafields[datafields['type']=='MATRIX']\n",
    "datafields_list = datafields_filter['id'].values \n",
    "# datafields_list_fundamental6\n"
   ]
  },
  {
   "cell_type": "code",
   "execution_count": 9,
   "id": "ae9fe33b",
   "metadata": {},
   "outputs": [
    {
     "name": "stdout",
     "output_type": "stream",
     "text": [
      "alpha_expressions length: 29088\n"
     ]
    },
    {
     "data": {
      "text/plain": [
       "['group_rank(ts_rank(anl4_adjusted_netincome_ft, 252), market)',\n",
       " 'group_rank(ts_rank(anl4_adjusted_netincome_ft, 252), industry)',\n",
       " 'group_rank(ts_rank(anl4_adjusted_netincome_ft, 252), subindustry)',\n",
       " 'group_rank(ts_rank(anl4_adjusted_netincome_ft, 252), sector)',\n",
       " 'group_rank(ts_rank(anl4_adjusted_netincome_ft, 504), market)']"
      ]
     },
     "execution_count": 9,
     "metadata": {},
     "output_type": "execute_result"
    }
   ],
   "source": [
    "# 确定 alpha 模板 提取并定义其中可以替换的部分 \n",
    "# alpha 模板 group_rank(ts_rank({fundamental model data}, 252), industry)  其中可以替换的部分包括 group_rank ts_rank {fundamental model data} 252 industry \n",
    "group_compare_op = ['group_rank', 'group_zscore', 'group_neutralize'] # 其他 group_ops \n",
    "ts_compare_op = ['ts_rank', 'ts_zscore', 'ts_av_diff', 'ts_sum', 'ts_scale', 'ts_arg_max'] # 其他 ts_ops： ts_min \n",
    "company_fundamental = datafields_list\n",
    "days = [252, 504]\n",
    "group = ['market', 'industry', 'subindustry', 'sector'] # 其他group可选值，包括 densify(fields) \n",
    "\n",
    "alpha_expressions = []\n",
    "for group_op in group_compare_op:\n",
    "    for ts_op in ts_compare_op:\n",
    "        for datafield in company_fundamental:\n",
    "            for day in days:\n",
    "                for g in group:\n",
    "                    # alpha_template_id: alpha_template_1 \n",
    "                    alpha_expression = f'{group_op}({ts_op}({datafield}, {day}), {g})'\n",
    "                    alpha_expressions.append(alpha_expression)\n",
    "\n",
    "print(f'alpha_expressions length: {len(alpha_expressions)}') \n",
    "alpha_expressions[: 5] "
   ]
  },
  {
   "cell_type": "code",
   "execution_count": 10,
   "id": "6b165334",
   "metadata": {},
   "outputs": [],
   "source": [
    "# 按照默认配置封装alpha\n",
    "alpha_list = [generate_sim_data_single(alpha_expression) for alpha_expression in alpha_expressions] \n",
    "with open('../data/alpha_template_1_padding_list.txt', 'a+') as f:\n",
    "    for alpha in alpha_list:\n",
    "        f.write(json.dumps(alpha, ensure_ascii=False)+'\\n')"
   ]
  },
  {
   "cell_type": "code",
   "execution_count": null,
   "id": "e9162446",
   "metadata": {},
   "outputs": [],
   "source": []
  }
 ],
 "metadata": {
  "kernelspec": {
   "display_name": "Python 3",
   "language": "python",
   "name": "python3"
  },
  "language_info": {
   "codemirror_mode": {
    "name": "ipython",
    "version": 3
   },
   "file_extension": ".py",
   "mimetype": "text/x-python",
   "name": "python",
   "nbconvert_exporter": "python",
   "pygments_lexer": "ipython3",
   "version": "3.10.11"
  }
 },
 "nbformat": 4,
 "nbformat_minor": 5
}
