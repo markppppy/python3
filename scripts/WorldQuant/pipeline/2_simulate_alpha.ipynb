{
 "cells": [
  {
   "cell_type": "code",
   "execution_count": 32,
   "id": "a68f010d",
   "metadata": {},
   "outputs": [],
   "source": [
    "import sys \n",
    "sys.path.append(\"..\")\n",
    "import re \n",
    "import threading\n",
    "from concurrent.futures import ThreadPoolExecutor\n",
    "from tools25 import *"
   ]
  },
  {
   "cell_type": "code",
   "execution_count": 33,
   "id": "7bbff65f",
   "metadata": {},
   "outputs": [],
   "source": [
    "# 1. 读取需要回测的alpha \n",
    "# 2. 用指定线程数回测alpha同时把回测完成的和失败的都保存到文件 \n",
    "# 文件命名格式: \n",
    "# alpha_template_id_alpha_complete_list.txt 模拟成功的 alpha 表达式列表 \n",
    "# alpha_template_id_alpha_fail_list.txt 模拟失败的 alpha 表达式列表\n",
    "# alpha_template_id_alpha_error_list.txt 因为其他原因没有模拟的 alpha 表达式列表"
   ]
  },
  {
   "cell_type": "code",
   "execution_count": 34,
   "id": "ef439ffd",
   "metadata": {},
   "outputs": [],
   "source": [
    "dir_path = os.path.dirname(os.getcwd())\n",
    "\n",
    "import logging\n",
    "logging.basicConfig(filename='../log/simulate_run_%s.log'%(datetime.datetime.now().strftime('%Y%m%d')), level=logging.INFO, format='%(asctime)s - %(levelname)s - %(message)s')\n"
   ]
  },
  {
   "cell_type": "code",
   "execution_count": null,
   "id": "003de73a",
   "metadata": {},
   "outputs": [],
   "source": [
    "def get_simulated_alpha_list(alpha_template_id):\n",
    "    simulated_alpha_list = []\n",
    "    simulated_alpha_file_list = [alpha_template_id + file_ending for file_ending in ['_alpha_complete_list.txt', '_alpha_fail_list.txt']]\n",
    "    for fn in simulated_alpha_file_list:\n",
    "        fn_path = os.path.join(dir_path, 'data', fn)\n",
    "        if os.path.exists(fn_path):\n",
    "            with open(fn_path, 'r') as f:\n",
    "                lines = f.readlines()\n",
    "            simulated_alpha_list += [line.strip() for line in lines]\n",
    "    return simulated_alpha_list  # 返回同一个alpha模板ID alpha_template_id 之前所有模拟完成和失败的 alpha 表达式列表"
   ]
  },
  {
   "cell_type": "code",
   "execution_count": null,
   "id": "53f16103",
   "metadata": {},
   "outputs": [
    {
     "name": "stdout",
     "output_type": "stream",
     "text": [
      "读取到 82656 个alpha表达式\n",
      "[{'type': 'REGULAR', 'settings': {'instrumentType': 'EQUITY', 'region': 'USA', 'universe': 'TOP3000', 'delay': 1, 'decay': 1, 'neutralization': 'SUBINDUSTRY', 'truncation': 0.08, 'pasteurization': 'ON', 'unitHandling': 'VERIFY', 'nanHandling': 'ON', 'language': 'FASTEXPR', 'visualization': False}, 'regular': 'group_rank(ts_rank(assets, 252), market)'}, {'type': 'REGULAR', 'settings': {'instrumentType': 'EQUITY', 'region': 'USA', 'universe': 'TOP3000', 'delay': 1, 'decay': 1, 'neutralization': 'SUBINDUSTRY', 'truncation': 0.08, 'pasteurization': 'ON', 'unitHandling': 'VERIFY', 'nanHandling': 'ON', 'language': 'FASTEXPR', 'visualization': False}, 'regular': 'group_rank(ts_rank(assets, 252), industry)'}]\n"
     ]
    }
   ],
   "source": [
    "# 1. 读取需要回测的alpha \n",
    "# 每次只能回测同一个alpha_template_id的alpha表达式，后面 single_simulate 时写入只能指定同一个 alpha_template_id 文件\n",
    "input_file_list = ['alpha_template_1_padding_list.txt']   \n",
    "for input_file in input_file_list:\n",
    "    alpha_template_id = re.match(r'^(alpha_template_\\d+)_([^_]+)_([^_]+)', input_file).groups()[0]\n",
    "    input_file_path = os.path.join(dir_path, 'data', input_file)\n",
    "    with open(input_file_path, 'r') as f:\n",
    "        alpha_list = f.readlines()\n",
    "    simulated_alpha_list = get_simulated_alpha_list(alpha_template_id)\n",
    "    alpha_list = [json.loads(alpha) for alpha in alpha_list if json.loads(alpha)['regular'] not in simulated_alpha_list]\n",
    "    print(f\"读取到 {len(alpha_list)} 个alpha表达式\")\n",
    "    print(alpha_list[:2])"
   ]
  },
  {
   "cell_type": "code",
   "execution_count": null,
   "id": "5ab13167",
   "metadata": {},
   "outputs": [],
   "source": [
    "# 2. 用指定线程数回测alpha同时把回测完成的和失败的都保存到文件 \n",
    "\n",
    "# 创建一个线程锁\n",
    "file_lock = threading.Lock()\n",
    "\n",
    "def write_to_file(file_path, content):\n",
    "    \"\"\"\n",
    "    多线程安全地写入文件\n",
    "    \"\"\"\n",
    "    with file_lock:  # 确保只有一个线程可以进入此代码块\n",
    "        with open(file_path, 'a+') as f:\n",
    "            f.write(content + '\\n')\n",
    "\n",
    "def single_simulate(alpha, alpha_fail_file, alpha_complete_file, complete_alpha_id_file, alpha_error_file):\n",
    "\n",
    "    keep_alive = True\n",
    "    try_cnt = 2\n",
    "\n",
    "    while keep_alive and try_cnt > 0:\n",
    "        try:\n",
    "            simulation_response = s.post('https://api.worldquantbrain.com/simulations', json=alpha)\n",
    "            simulation_progress_url = simulation_response.headers['Location']\n",
    "            while True:\n",
    "                simulation_progress = s.get(simulation_progress_url)\n",
    "                if simulation_progress.headers.get(\"Retry-After\", 0) == 0:\n",
    "                    break\n",
    "                sleep(float(simulation_progress.headers[\"Retry-After\"]))\n",
    "            \n",
    "            response = simulation_progress.json()\n",
    "            status = response.get(\"status\", 0)\n",
    "            if status != \"COMPLETE\":\n",
    "                write_to_file(alpha_fail_file, alpha['regular'])\n",
    "                logging.warning(f\"alpha expression: {alpha['regular']}, alpha id: {response['alpha']}, status: {response['status']}, message: {response['message']} \\n {simulation_progress_url}\")\n",
    "            else:\n",
    "                write_to_file(alpha_complete_file, alpha['regular'])\n",
    "                write_to_file(complete_alpha_id_file, response[\"alpha\"]) # 用于第三步检查回测成功的alpha是否可以提交 \n",
    "            keep_alive = False\n",
    "        except Exception as e:\n",
    "            s = login()\n",
    "            if try_cnt == 1:\n",
    "                logging.error(f\"{alpha['regular']} \\n Error occurred: {e}\")\n",
    "                write_to_file(alpha_error_file, alpha['regular'])\n",
    "            try_cnt -= 1\n",
    "    sleep(1)\n"
   ]
  },
  {
   "cell_type": "code",
   "execution_count": null,
   "id": "89c90744",
   "metadata": {},
   "outputs": [],
   "source": [
    "process_num = 3 \n",
    "# alpha_list_sub = alpha_list[: 10] # 测试用，实际使用时可以注释掉\n",
    "alpha_list_sub = random.sample(alpha_list, 10000)\n",
    "\n",
    "alpha_fail_file = os.path.join(dir_path, 'data', alpha_template_id + '_alpha_fail_list.txt')  # 回测失败的 alpha 表达式\n",
    "alpha_complete_file = os.path.join(dir_path, 'data', alpha_template_id + '_alpha_complete_list.txt')  # 回测完成的 alpha 表达式\n",
    "complete_alpha_id_file = os.path.join(dir_path, 'data', alpha_template_id + '_complete_alpha_id_list.txt')  # 回测完成的 alpha id\n",
    "alpha_error_file = os.path.join(dir_path, 'data', alpha_template_id + '_alpha_error_list.txt')  # 因为其他原因未回测的 alpha 表达式 \n",
    "\n",
    "# 使用 ThreadPoolExecutor 来并行处理 alpha 表达式\n",
    "with ThreadPoolExecutor(max_workers=process_num) as executor:\n",
    "    futures = [executor.submit(single_simulate, alpha, alpha_fail_file, alpha_complete_file, complete_alpha_id_file, alpha_error_file) for alpha in alpha_list_sub]\n",
    "\n"
   ]
  },
  {
   "cell_type": "code",
   "execution_count": null,
   "id": "d614f492",
   "metadata": {},
   "outputs": [],
   "source": []
  },
  {
   "cell_type": "code",
   "execution_count": null,
   "id": "07a33593",
   "metadata": {},
   "outputs": [],
   "source": []
  }
 ],
 "metadata": {
  "kernelspec": {
   "display_name": "Python 3",
   "language": "python",
   "name": "python3"
  },
  "language_info": {
   "codemirror_mode": {
    "name": "ipython",
    "version": 3
   },
   "file_extension": ".py",
   "mimetype": "text/x-python",
   "name": "python",
   "nbconvert_exporter": "python",
   "pygments_lexer": "ipython3",
   "version": "3.10.11"
  }
 },
 "nbformat": 4,
 "nbformat_minor": 5
}
