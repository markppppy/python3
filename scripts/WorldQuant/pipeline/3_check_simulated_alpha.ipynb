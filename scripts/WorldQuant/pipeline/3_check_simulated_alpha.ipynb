{
 "cells": [
  {
   "cell_type": "code",
   "execution_count": 11,
   "id": "16dc293b",
   "metadata": {},
   "outputs": [],
   "source": [
    "import sys \n",
    "sys.path.append(\"..\")\n",
    "from tools25 import *\n",
    "import re \n",
    "from tqdm import tqdm"
   ]
  },
  {
   "cell_type": "code",
   "execution_count": null,
   "id": "0acf703e",
   "metadata": {},
   "outputs": [],
   "source": [
    "# 3. 通过apha id检查回测过的aplha是否可以提交 \n",
    "# 目前好像只能检测是否可以提交，然后生成alpha链接，但不能直接提交 "
   ]
  },
  {
   "cell_type": "code",
   "execution_count": null,
   "id": "9caa0ebe",
   "metadata": {},
   "outputs": [
    {
     "name": "stderr",
     "output_type": "stream",
     "text": [
      " 82%|████████▏ | 2505/3062 [25:41<17:31,  1.89s/it]  "
     ]
    },
    {
     "name": "stdout",
     "output_type": "stream",
     "text": [
      "catch: R50b5ja\n"
     ]
    },
    {
     "name": "stderr",
     "output_type": "stream",
     "text": [
      " 85%|████████▍ | 2599/3062 [26:46<03:27,  2.24it/s]"
     ]
    },
    {
     "name": "stdout",
     "output_type": "stream",
     "text": [
      "catch: KVxgKjg\n"
     ]
    },
    {
     "name": "stderr",
     "output_type": "stream",
     "text": [
      "100%|██████████| 3062/3062 [31:51<00:00,  1.60it/s]"
     ]
    },
    {
     "name": "stdout",
     "output_type": "stream",
     "text": [
      "检查了文件alpha_template_1_complete_alpha_id_list.txt的3062行，可以提交的alpha有7个，检查失败的alpha有0个\n"
     ]
    },
    {
     "name": "stderr",
     "output_type": "stream",
     "text": [
      "\n"
     ]
    }
   ],
   "source": [
    "file_name = 'alpha_template_1_complete_alpha_id_list.txt'\n",
    "start_line = 3062  # 如果之前检查过这个文件，把检查了的行数写在这里，比如说第一次检查了3个，第二次检查了4个，这里就写7\n",
    "\n",
    "s = login()\n",
    "dir_path = os.path.dirname(os.getcwd())\n",
    "\n",
    "fn_path = os.path.join(dir_path, 'data', file_name)\n",
    "\n",
    "alpha_template_id = re.match(r'^(alpha_template_\\d+)_([^_]+)_([^_]+)', file_name).groups()[0]\n",
    "\n",
    "could_submit_alpha_id = [] \n",
    "output_file = f'{alpha_template_id}_could_submit_alpha_link_list' # 保存可以提交的alpha链接 \n",
    "\n",
    "error_alpha_id = [] # 保存检查失败的alpha id\n",
    "error_file = f'{alpha_template_id}_check error_alpha_id_list' # 保存检查失败的alpha id\n",
    "\n",
    "with open(fn_path, 'r', encoding='utf-8') as f:\n",
    "    lines = f.readlines()\n",
    "    for line in tqdm(lines[start_line:]):\n",
    "        alpha_id = line.strip()\n",
    "        pc = get_check_submission(s, alpha_id)\n",
    "        \n",
    "        if pc != -2:\n",
    "            could_submit_alpha_id.append(alpha_id)\n",
    "            continue\n",
    "\n",
    "        try_cnt = 2\n",
    "        while pc == 'collect' and try_cnt > 0:\n",
    "            sleep(6)\n",
    "            try_cnt -= 1\n",
    "            pc = get_check_submission(s, alpha_id)\n",
    "            if pc != -2:\n",
    "                could_submit_alpha_id.append(alpha_id)\n",
    "                break\n",
    "            if try_cnt == 0:\n",
    "                error_alpha_id.append(alpha_id)\n",
    "\n",
    "with open(os.path.join(dir_path, 'check_result', output_file), 'a+', encoding='utf-8') as f:\n",
    "    for alpha_id in could_submit_alpha_id:\n",
    "        f.write(f'https://platform.worldquantbrain.com/alpha/{alpha_id}\\n')\n",
    "\n",
    "with open(os.path.join(dir_path, 'check_result', error_file), 'a+', encoding='utf-8') as f:\n",
    "    for alpha_id in error_alpha_id:\n",
    "        f.write(f'{alpha_id}\\n')\n",
    "\n",
    "print(f'检查了文件{file_name}的{len(lines[start_line:])}行，可以提交的alpha有{len(could_submit_alpha_id)}个，检查失败的alpha有{len(error_alpha_id)}个')\n"
   ]
  },
  {
   "cell_type": "code",
   "execution_count": null,
   "id": "e3217dbe",
   "metadata": {},
   "outputs": [],
   "source": []
  },
  {
   "cell_type": "code",
   "execution_count": null,
   "id": "cc291752",
   "metadata": {},
   "outputs": [],
   "source": []
  }
 ],
 "metadata": {
  "kernelspec": {
   "display_name": "Python 3",
   "language": "python",
   "name": "python3"
  },
  "language_info": {
   "codemirror_mode": {
    "name": "ipython",
    "version": 3
   },
   "file_extension": ".py",
   "mimetype": "text/x-python",
   "name": "python",
   "nbconvert_exporter": "python",
   "pygments_lexer": "ipython3",
   "version": "3.10.11"
  }
 },
 "nbformat": 4,
 "nbformat_minor": 5
}
