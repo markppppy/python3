{
 "cells": [
  {
   "cell_type": "markdown",
   "id": "333be283-d493-4723-9ae5-cd503ac112aa",
   "metadata": {},
   "source": [
    "## 导入工具包"
   ]
  },
  {
   "cell_type": "code",
   "execution_count": 1,
   "id": "fbf76117-979d-462e-b530-0a176f2f0e9b",
   "metadata": {},
   "outputs": [],
   "source": [
    "from tools25 import * "
   ]
  },
  {
   "cell_type": "markdown",
   "id": "1ef5bef8-1053-4e98-84a5-822694058aa5",
   "metadata": {},
   "source": [
    "## 1, 登录\n",
    "在tools25文件的login方法中填写用户名和密码后保存然后来到本文件Restart Kernal后重新import tools23"
   ]
  },
  {
   "cell_type": "code",
   "execution_count": 2,
   "id": "52afa2f2-b36f-42da-a2bd-f336bb579b80",
   "metadata": {},
   "outputs": [
    {
     "name": "stdout",
     "output_type": "stream",
     "text": [
      "b'{\"user\":{\"id\":\"PS30320\"},\"token\":{\"expiry\":14400.0},\"permissions\":[\"TUTORIAL\"]}'\n"
     ]
    }
   ],
   "source": [
    "s = login()"
   ]
  },
  {
   "cell_type": "markdown",
   "id": "38e838a5-4f2d-4065-a3cd-99ee530ecbe2",
   "metadata": {},
   "source": [
    "## 2, 根据dataset_id，调取平台API获取datafields"
   ]
  },
  {
   "cell_type": "code",
   "execution_count": 3,
   "id": "4c455d1d-2776-4e92-b778-071900803722",
   "metadata": {},
   "outputs": [
    {
     "name": "stdout",
     "output_type": "stream",
     "text": [
      "                           id  \\\n",
      "0    historical_volatility_10   \n",
      "1   historical_volatility_120   \n",
      "2   historical_volatility_150   \n",
      "3   historical_volatility_180   \n",
      "4    historical_volatility_20   \n",
      "..                        ...   \n",
      "59   parkinson_volatility_180   \n",
      "60    parkinson_volatility_20   \n",
      "61    parkinson_volatility_30   \n",
      "62    parkinson_volatility_60   \n",
      "63    parkinson_volatility_90   \n",
      "\n",
      "                                          description  \\\n",
      "0   Close-to-close Historical volatility over 10 days   \n",
      "1   Close-to-close Historical volatility over 120 ...   \n",
      "2   Close-to-close Historical volatility over 150 ...   \n",
      "3   Close-to-close Historical volatility over 180 ...   \n",
      "4   Close-to-close Historical volatility over 20 days   \n",
      "..                                                ...   \n",
      "59  Parkinson model's historical volatility over 1...   \n",
      "60  Parkinson model's historical volatility over 2...   \n",
      "61  Parkinson model's historical volatility over 3...   \n",
      "62  Parkinson model's historical volatility over 6...   \n",
      "63  Parkinson model's historical volatility over 9...   \n",
      "\n",
      "                                         dataset  \\\n",
      "0   {'id': 'option8', 'name': 'Volatility Data'}   \n",
      "1   {'id': 'option8', 'name': 'Volatility Data'}   \n",
      "2   {'id': 'option8', 'name': 'Volatility Data'}   \n",
      "3   {'id': 'option8', 'name': 'Volatility Data'}   \n",
      "4   {'id': 'option8', 'name': 'Volatility Data'}   \n",
      "..                                           ...   \n",
      "59  {'id': 'option8', 'name': 'Volatility Data'}   \n",
      "60  {'id': 'option8', 'name': 'Volatility Data'}   \n",
      "61  {'id': 'option8', 'name': 'Volatility Data'}   \n",
      "62  {'id': 'option8', 'name': 'Volatility Data'}   \n",
      "63  {'id': 'option8', 'name': 'Volatility Data'}   \n",
      "\n",
      "                              category  \\\n",
      "0   {'id': 'option', 'name': 'Option'}   \n",
      "1   {'id': 'option', 'name': 'Option'}   \n",
      "2   {'id': 'option', 'name': 'Option'}   \n",
      "3   {'id': 'option', 'name': 'Option'}   \n",
      "4   {'id': 'option', 'name': 'Option'}   \n",
      "..                                 ...   \n",
      "59  {'id': 'option', 'name': 'Option'}   \n",
      "60  {'id': 'option', 'name': 'Option'}   \n",
      "61  {'id': 'option', 'name': 'Option'}   \n",
      "62  {'id': 'option', 'name': 'Option'}   \n",
      "63  {'id': 'option', 'name': 'Option'}   \n",
      "\n",
      "                                          subcategory region  delay universe  \\\n",
      "0   {'id': 'option-option-volatility', 'name': 'Op...    USA      1  TOP3000   \n",
      "1   {'id': 'option-option-volatility', 'name': 'Op...    USA      1  TOP3000   \n",
      "2   {'id': 'option-option-volatility', 'name': 'Op...    USA      1  TOP3000   \n",
      "3   {'id': 'option-option-volatility', 'name': 'Op...    USA      1  TOP3000   \n",
      "4   {'id': 'option-option-volatility', 'name': 'Op...    USA      1  TOP3000   \n",
      "..                                                ...    ...    ...      ...   \n",
      "59  {'id': 'option-option-volatility', 'name': 'Op...    USA      1  TOP3000   \n",
      "60  {'id': 'option-option-volatility', 'name': 'Op...    USA      1  TOP3000   \n",
      "61  {'id': 'option-option-volatility', 'name': 'Op...    USA      1  TOP3000   \n",
      "62  {'id': 'option-option-volatility', 'name': 'Op...    USA      1  TOP3000   \n",
      "63  {'id': 'option-option-volatility', 'name': 'Op...    USA      1  TOP3000   \n",
      "\n",
      "      type  coverage  userCount  alphaCount themes  \n",
      "0   MATRIX    0.6983        391        1121     []  \n",
      "1   MATRIX    0.7004        398        1364     []  \n",
      "2   MATRIX    0.7014        224         835     []  \n",
      "3   MATRIX    0.7023        589        2025     []  \n",
      "4   MATRIX    0.6983        230         772     []  \n",
      "..     ...       ...        ...         ...    ...  \n",
      "59  MATRIX    0.7022        257         926     []  \n",
      "60  MATRIX    0.6983        131         721     []  \n",
      "61  MATRIX    0.6981        126         614     []  \n",
      "62  MATRIX    0.6984        146         654     []  \n",
      "63  MATRIX    0.6994        209         752     []  \n",
      "\n",
      "[64 rows x 13 columns]\n"
     ]
    }
   ],
   "source": [
    "df = get_datafields(s, dataset_id = 'option8', region='USA', universe='TOP3000', delay=1)\n",
    "print(df)"
   ]
  },
  {
   "cell_type": "markdown",
   "id": "76a6808b",
   "metadata": {},
   "source": [
    "### Matrix Data"
   ]
  },
  {
   "cell_type": "code",
   "execution_count": 4,
   "id": "59a0f981-133a-4226-b228-5a91584e5a21",
   "metadata": {},
   "outputs": [
    {
     "name": "stdout",
     "output_type": "stream",
     "text": [
      "['winsorize(ts_backfill(implied_volatility_call_10/implied_volatility_mean_10, 120), std=4)', 'winsorize(ts_backfill(implied_volatility_call_10/implied_volatility_mean_1080, 120), std=4)', 'winsorize(ts_backfill(implied_volatility_call_10/implied_volatility_mean_120, 120), std=4)']\n",
      "288\n"
     ]
    }
   ],
   "source": [
    "# print(df[df['type'] == \"MATRIX\"][\"id\"].tolist())\n",
    "pc_fields = process_datafields_opt(df, \"matrix\")\n",
    "print(pc_fields[:3])\n",
    "print(len(pc_fields))"
   ]
  },
  {
   "cell_type": "markdown",
   "id": "ff2dcbb2-2d6c-4076-ac5e-80857adc78a8",
   "metadata": {},
   "source": [
    "## 3, Alpha factory（一阶Alpha模板，生成Matrix数据之后，开始跑这个)\n",
    "### start with First Order"
   ]
  },
  {
   "cell_type": "code",
   "execution_count": 5,
   "id": "6b95c83a-ec99-4564-84b0-5a2c011f8555",
   "metadata": {},
   "outputs": [
    {
     "name": "stdout",
     "output_type": "stream",
     "text": [
      "['ts_mean', 'ts_sum', 'ts_std_dev', 'ts_scale', 'ts_rank', 'ts_quantile', 'ts_zscore', 'ts_arg_min', 'ts_product', 'ts_arg_max', 'ts_delta']\n",
      "['winsorize(ts_backfill(implied_volatility_call_10/implied_volatility_mean_10, 120), std=4)', 'ts_mean(winsorize(ts_backfill(implied_volatility_call_10/implied_volatility_mean_10, 120), std=4), 5)', 'ts_mean(winsorize(ts_backfill(implied_volatility_call_10/implied_volatility_mean_10, 120), std=4), 22)', 'ts_mean(winsorize(ts_backfill(implied_volatility_call_10/implied_volatility_mean_10, 120), std=4), 66)', 'ts_mean(winsorize(ts_backfill(implied_volatility_call_10/implied_volatility_mean_10, 120), std=4), 120)', 'ts_mean(winsorize(ts_backfill(implied_volatility_call_10/implied_volatility_mean_10, 120), std=4), 240)', 'ts_sum(winsorize(ts_backfill(implied_volatility_call_10/implied_volatility_mean_10, 120), std=4), 5)', 'ts_sum(winsorize(ts_backfill(implied_volatility_call_10/implied_volatility_mean_10, 120), std=4), 22)', 'ts_sum(winsorize(ts_backfill(implied_volatility_call_10/implied_volatility_mean_10, 120), std=4), 66)', 'ts_sum(winsorize(ts_backfill(implied_volatility_call_10/implied_volatility_mean_10, 120), std=4), 120)']\n",
      "16128\n"
     ]
    }
   ],
   "source": [
    "ops_lst=get_ops(s)['name'].to_list()    # 获取你账号可用的ops\n",
    "ops=intersection_of_lists(ops_lst,ts_ops)\n",
    "first_order = get_first_order(pc_fields, ops,prefix='') # 新增prefix,提效first order\n",
    "print(first_order[:10])\n",
    "print(len(first_order))"
   ]
  },
  {
   "cell_type": "code",
   "execution_count": 6,
   "id": "9e3da2b8",
   "metadata": {},
   "outputs": [],
   "source": [
    "fo_alpha_dict = defaultdict(list)\n",
    "init_decay = 5\n",
    "regions = [\"usa\"]\n",
    "for key in regions:\n",
    "    for alpha in first_order:\n",
    "        fo_alpha_dict[key].append((alpha,init_decay))"
   ]
  },
  {
   "cell_type": "markdown",
   "id": "ad4cf830-441d-45f1-8e5a-17fa54082461",
   "metadata": {},
   "source": [
    "## 4, simulate alphas"
   ]
  },
  {
   "cell_type": "code",
   "execution_count": null,
   "id": "b6c7e33f",
   "metadata": {},
   "outputs": [
    {
     "name": "stdout",
     "output_type": "stream",
     "text": [
      "b'{\"user\":{\"id\":\"PS30320\"},\"token\":{\"expiry\":14400.0},\"permissions\":[\"TUTORIAL\"]}'\n",
      "curr usa len 16128\n",
      "group 0 winsorize(ts_backfill(implied_volatility_call_10/implied_volatility_mean_10, 120), std=4) USA TOP3000 5\n",
      "201\n",
      "group 0 ts_mean(winsorize(ts_backfill(implied_volatility_call_10/implied_volatility_mean_10, 120), std=4), 5) USA TOP3000 5\n",
      "201\n",
      "group 0 ts_mean(winsorize(ts_backfill(implied_volatility_call_10/implied_volatility_mean_10, 120), std=4), 22) USA TOP3000 5\n",
      "201\n",
      "group 0 post done\n",
      "2025-03-20 22:05:19.631967------------------\n",
      "https://api.worldquantbrain.com/simulations/wXdQS4Jz5199lr1hG2yKGjD done simulating, getting alpha details\n",
      "https://api.worldquantbrain.com/simulations/3mG4JK8AN5dKbsCHIXOhzEb done simulating, getting alpha details\n",
      "https://api.worldquantbrain.com/simulations/2Ol33efi952SbyU162uotdtw done simulating, getting alpha details\n",
      "group 0 USA simulate done\n",
      "group 1 ts_mean(winsorize(ts_backfill(implied_volatility_call_10/implied_volatility_mean_10, 120), std=4), 66) USA TOP3000 5\n",
      "201\n",
      "group 1 ts_mean(winsorize(ts_backfill(implied_volatility_call_10/implied_volatility_mean_10, 120), std=4), 120) USA TOP3000 5\n",
      "201\n",
      "group 1 ts_mean(winsorize(ts_backfill(implied_volatility_call_10/implied_volatility_mean_10, 120), std=4), 240) USA TOP3000 5\n",
      "201\n",
      "group 1 post done\n",
      "2025-03-20 22:06:20.934610------------------\n",
      "https://api.worldquantbrain.com/simulations/1hlxiYbBz5bmcFTWrOf9Udm done simulating, getting alpha details\n",
      "https://api.worldquantbrain.com/simulations/2Lz4sf75b5bzaofmvuP14B5 done simulating, getting alpha details\n",
      "https://api.worldquantbrain.com/simulations/3qh4nt5MA4LubW92oTuzzCp done simulating, getting alpha details\n",
      "group 1 USA simulate done\n",
      "group 2 ts_sum(winsorize(ts_backfill(implied_volatility_call_10/implied_volatility_mean_10, 120), std=4), 5) USA TOP3000 5\n",
      "201\n",
      "group 2 ts_sum(winsorize(ts_backfill(implied_volatility_call_10/implied_volatility_mean_10, 120), std=4), 22) USA TOP3000 5\n",
      "201\n",
      "group 2 ts_sum(winsorize(ts_backfill(implied_volatility_call_10/implied_volatility_mean_10, 120), std=4), 66) USA TOP3000 5\n",
      "201\n",
      "group 2 post done\n",
      "2025-03-20 22:14:29.153521------------------\n"
     ]
    }
   ],
   "source": [
    "# Simulate First Order\n",
    "region_dict = {\"usa\" : (\"USA\", \"TOP3000\")}\n",
    "\n",
    "first_layer_bag = []\n",
    "simulate(fo_alpha_dict, region_dict, \"opt_fo_usa\", 'SUBINDUSTRY', 0 , first_layer_bag)"
   ]
  },
  {
   "cell_type": "markdown",
   "id": "03124465-1fe9-4820-915a-bc21795bff00",
   "metadata": {},
   "source": [
    "## 5, Select alphas(根据时间取出刚刚simulate的alpha，用于跑二阶模板)\n",
    "go to web alphas penal to look for the number and date to track for next order improve"
   ]
  },
  {
   "cell_type": "code",
   "execution_count": null,
   "id": "764e459c",
   "metadata": {},
   "outputs": [],
   "source": [
    "## get promising alphas to improve in the next order\n",
    "# 注意这里的时间是纽约时间，比北京时间慢13个小时\n",
    "from tools25 import *\n",
    "\n",
    "\n",
    "fo_tracker = get_alphas(\"01-11\", \"01-12\", 1.0, 0.5, \"USA\", 320, \"track\")"
   ]
  },
  {
   "cell_type": "markdown",
   "id": "6a6ae688-d0e6-42bb-a9bd-a8d6a044b027",
   "metadata": {},
   "source": [
    "## 6, Next order improvement - Second Order(二阶模板，对一阶Alpha中性化处理)\n",
    "second order: ts_ops(field, days) -> group_ops(ts_ops(field, days), group)"
   ]
  },
  {
   "cell_type": "code",
   "execution_count": null,
   "id": "f7037d0a",
   "metadata": {},
   "outputs": [],
   "source": [
    "s=login()\n",
    "print(len(fo_tracker['next']))\n",
    "print(len(fo_tracker['decay']))\n",
    "\n",
    "fo_layer = prune(fo_tracker['next'] + fo_tracker['decay'], 'usa', 'fnd6', 5)\n",
    "\n",
    "ops_lst=get_ops(s)['name'].to_list()    # 获取你账号可用的ops\n",
    "group_ops = [\"group_neutralize\", \"group_rank\", \"group_normalize\", \"group_scale\", \"group_zscore\"]\n",
    "ops=intersection_of_lists(ops_lst,group_ops)\n",
    "flst=get_fields_all()       # 获取你的可用字段\n",
    "\n",
    "so_alpha_dict = defaultdict(list)\n",
    "for key, couples in fo_layer.items():\n",
    "    for expr, decay in couples:\n",
    "        for alpha in get_group_second_order_factory([expr], ops, key,flst):\n",
    "            so_alpha_dict[key].append((alpha,decay))\n",
    "\n",
    "\n",
    "# print(so_alpha_dict['usa'][:3])\n",
    "print(len(so_alpha_dict['usa']))\n"
   ]
  },
  {
   "cell_type": "markdown",
   "id": "f20213f6",
   "metadata": {},
   "source": [
    "### Simulate second order"
   ]
  },
  {
   "cell_type": "code",
   "execution_count": null,
   "id": "3fd912f9",
   "metadata": {},
   "outputs": [],
   "source": [
    "region_dict = {\"usa\" : (\"USA\", \"TOP3000\")}\n",
    "\n",
    "so_bag = []\n",
    "simulate(so_alpha_dict, region_dict, \"opt_so_usa\", 'SUBINDUSTRY', 0, so_bag)"
   ]
  },
  {
   "cell_type": "markdown",
   "id": "c55f86b4-b464-44e4-ab33-ca2532128fa2",
   "metadata": {},
   "source": [
    "## Get submittable alphas（检查simulatied alphass是否可以submit）\n",
    "check_submission and view alphas"
   ]
  },
  {
   "cell_type": "code",
   "execution_count": null,
   "id": "0972b4ee-7b9d-4a6f-a7ec-e43849f54275",
   "metadata": {},
   "outputs": [],
   "source": [
    "# 输入你simulate运行日期，这里的时间都是纽约时间，比北京时间慢13小时\n",
    "# 如果你是24号上午运行的simulate，那么这里的时间应该是23-24\n",
    "import traceback\n",
    "\n",
    "\n",
    "th_tracker = get_alphas(\"01-09\", \"01-10\", 1.25, 1, \"USA\", 320, \"submit\")\n",
    "stone_bag = []\n",
    "for alpha in th_tracker['next'] + th_tracker['decay']:\n",
    "    stone_bag.append(alpha[0])  # 取出其中的alpha_id\n",
    "stone_bag_len=len(stone_bag)\n",
    "print(fr\"stone_bag len {stone_bag_len}\")\n",
    "gold_bag_all = []\n",
    "\n",
    "for s_step in range(0, stone_bag_len, 10):\n",
    "    e_step=s_step+10\n",
    "    if e_step>=stone_bag_len:\n",
    "        e_step=stone_bag_len-1\n",
    "\n",
    "    print(fr\"stone_bag s_step:{s_step},e_step:{e_step}\")\n",
    "    stone_bag_temp=stone_bag[s_step:e_step]\n",
    "\n",
    "\n",
    "    gold_bag = []\n",
    "    try:\n",
    "        check_submission(stone_bag_temp, gold_bag, 0)\n",
    "    except Exception as e:\n",
    "        traceback.print_exc()\n",
    "        print(fr\"check_submission unknown error\")   \n",
    "        print(fr\"time now:{get_timenow()}\") \n",
    "\n",
    "    print(\"___________________________________________________________________________________________________\")\n",
    "    print(fr\"time now:{get_timenow()}\")\n",
    "    gold_bag_all+=gold_bag\n",
    "    print(gold_bag)"
   ]
  },
  {
   "cell_type": "code",
   "execution_count": null,
   "id": "238b8663",
   "metadata": {},
   "outputs": [],
   "source": [
    "# 可以尝试submit的alpha_id\n",
    "# https://platform.worldquantbrain.com/alpha/6lmK2XO\n",
    "# 替换掉以上链接末尾的6lmK2XO就可以在网页打开\n",
    "gold_bag_all"
   ]
  },
  {
   "cell_type": "code",
   "execution_count": null,
   "id": "18d18f9f",
   "metadata": {},
   "outputs": [],
   "source": []
  }
 ],
 "metadata": {
  "kernelspec": {
   "display_name": "base",
   "language": "python",
   "name": "python3"
  },
  "language_info": {
   "codemirror_mode": {
    "name": "ipython",
    "version": 3
   },
   "file_extension": ".py",
   "mimetype": "text/x-python",
   "name": "python",
   "nbconvert_exporter": "python",
   "pygments_lexer": "ipython3",
   "version": "3.12.7"
  }
 },
 "nbformat": 4,
 "nbformat_minor": 5
}
