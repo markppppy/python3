{
 "cells": [
  {
   "attachments": {},
   "cell_type": "markdown",
   "metadata": {},
   "source": [
    "- 均值类\n",
    "1. 正态检验\n",
    "2. 样本量估计\n",
    "3. 测试完成后的合理性检验\n",
    "   - 实验/对照组的样本量比例检验：假如测试完成后，样本量比例不是1:1，怎么判断实际比例是否属于可接受的波动\n",
    "   - 特征分布是否均匀：辛普森悖论\n",
    "3. 结果检验 T检验 返回p值；怎么计算置信区间"
   ]
  },
  {
   "cell_type": "code",
   "execution_count": 15,
   "metadata": {},
   "outputs": [],
   "source": [
    "import pandas as pd\n",
    "import numpy as np\n",
    "import matplotlib.pyplot as plt\n",
    "from scipy import stats\n",
    "from statsmodels.stats.power import tt_ind_solve_power\n",
    "from statsmodels.stats.proportion import proportion_effectsize as es \n",
    "from scipy.stats import ttest_ind,norm,f\n",
    "import statsmodels.stats.weightstats as sw\n"
   ]
  },
  {
   "cell_type": "code",
   "execution_count": 3,
   "metadata": {},
   "outputs": [],
   "source": [
    "data = {'avg_cnt':[11.077378,8.398665,8.571959,8.283145,5.93106,7.453807,9.184988,7.755004,8.438116,9.159712,6.773043,8.315689,7.682243,7.343689,8.982294,7.653003,7.419295,8.419876,6.440056,7.040037,9.724157,8.956077,8.760673,9.226514,6.82048,5.025931,6.90876,8.110434,6.430384,8.037746]}\n",
    "df = pd.DataFrame(data)"
   ]
  },
  {
   "cell_type": "code",
   "execution_count": 5,
   "metadata": {},
   "outputs": [
    {
     "name": "stdout",
     "output_type": "stream",
     "text": [
      "ShapiroResult(statistic=0.9872630834579468, pvalue=0.9692407846450806)\n",
      "NormaltestResult(statistic=array([0.90757086]), pvalue=array([0.63521902]))\n"
     ]
    }
   ],
   "source": [
    "# 检验数据是否符合正态分布：有多种方法，每种方法适用数据量不同\n",
    "# 统计量越接近1表明数据和正态分布拟合的越好，p值大于0.05表示样本服从正态分布\n",
    "print(stats.shapiro(df))  \n",
    "print(stats.normaltest(df))"
   ]
  },
  {
   "cell_type": "code",
   "execution_count": 6,
   "metadata": {},
   "outputs": [
    {
     "name": "stdout",
     "output_type": "stream",
     "text": [
      "标准差： avg_cnt    1.217752\n",
      "dtype: float64\n",
      "均值： avg_cnt    7.94414\n",
      "dtype: float64\n",
      "提升量： avg_cnt    0.158883\n",
      "dtype: float64\n"
     ]
    },
    {
     "data": {
      "text/plain": [
       "923.1068496018379"
      ]
     },
     "execution_count": 6,
     "metadata": {},
     "output_type": "execute_result"
    }
   ],
   "source": [
    "# 样本量计算，也可以用 8 * 综合方差 / 提升值的平方  ？两种方法算出来的样本量差别很大\n",
    "print(\"标准差：\",np.std(df))\n",
    "print(\"均值：\",np.mean(df))\n",
    "print(\"提升量：\",np.mean(df)*0.02)  # 0.02是自己定的提升比例，实际可以参考业务历史数据设定\n",
    "tt_ind_solve_power(effect_size=(0.158883)/1.217752, alpha=0.05, power=0.8, ratio=1.0, alternative=\"two-sided\")\n"
   ]
  },
  {
   "cell_type": "code",
   "execution_count": 10,
   "metadata": {},
   "outputs": [
    {
     "name": "stdout",
     "output_type": "stream",
     "text": [
      "Null Hypothesis:var(s1)=var(s2)，α=0.05\n",
      "p_val：0.8929\n",
      "Accept the Null Hypothesis.\n",
      "Null Hypothesis:mean(s1)=mean(s2)，α=0.05\n",
      "Accept the Null Hypothesis.\n",
      "p_val：0.4234\n"
     ]
    }
   ],
   "source": [
    "# 结果检验\n",
    "# data1为新版本数据，data2为老版本数据\n",
    "data_af = pd.DataFrame(\n",
    "    {\n",
    "    'data1':[5.679312,5.596886,6.044847,5.994368,7.532478,5.922314,4.296232,4.188054,3.777318,8.253483,7.114997,6.82596,7.213144,4.213463],\n",
    "    'data2':[6.150766,4.026921,8.072727,8.764057,6.079969,5.504954,7.113292,6.33763,4.940921,6.367048,7.244069,6.365149,7.964037,3.840968]\n",
    "    }\n",
    "    )\n",
    "\n",
    "def ftest(s1,s2):\n",
    "    '''F检验：验证两组结果总体方差是否相等'''\n",
    "    print(\"Null Hypothesis:var(s1)=var(s2)，α=0.05\")\n",
    "    F = np.var(s1)/np.var(s2)\n",
    "    v1 = len(s1) - 1\n",
    "    v2 = len(s2) - 1\n",
    "    p_val = 1 - 2*abs(0.5-f.cdf(F,v1,v2))\n",
    "    print('p_val：%.4f' %p_val)\n",
    "    if p_val < 0.05:\n",
    "        print(\"Reject the Null Hypothesis.\")\n",
    "        equal_var=False\n",
    "    else:\n",
    "        print(\"Accept the Null Hypothesis.\")\n",
    "        equal_var=True\n",
    "    return equal_var\n",
    "\n",
    "def ttest_ind_fun(s1,s2):\n",
    "    '''t检验独立样本所代表的两个总体均值是否存在差异'''\n",
    "    equal_var = ftest(s1,s2)\n",
    "    print(\"Null Hypothesis:mean(s1)=mean(s2)，α=0.05\")\n",
    "    ttest,pval = ttest_ind(s1,s2,equal_var=equal_var) #如果equal_var为True（默认），则执行一个标准的独立2样本检验，该检验假设总体方差相等[1]。如果为False，则执行Welch的t检验，该检验不假定总体方差相等\n",
    "    if pval < 0.05:\n",
    "        print(\"Reject the Null Hypothesis.\")\n",
    "    else:\n",
    "        print(\"Accept the Null Hypothesis.\")\n",
    "    print('p_val：%.4f' %pval)\n",
    "\n",
    "ttest_ind_fun(data_af['data1'],data_af['data2'])\n"
   ]
  },
  {
   "attachments": {},
   "cell_type": "markdown",
   "metadata": {},
   "source": [
    "- 比例类\n",
    "1. 样本量计算\n",
    "2. 测试完成后的合理性检验 同上\n",
    "3. 结果检验 z检验"
   ]
  },
  {
   "cell_type": "code",
   "execution_count": 11,
   "metadata": {},
   "outputs": [],
   "source": [
    "data = {\n",
    "    \"ratio\":[0.211249,0.217914,0.22124,0.20922,0.214652,0.207703,0.187119,0.204098,0.20032,0.203912,0.211707,0.205356,0.222301,0.206412,0.214494]\n",
    "}\n",
    "df =pd.DataFrame(data) "
   ]
  },
  {
   "cell_type": "code",
   "execution_count": 12,
   "metadata": {},
   "outputs": [
    {
     "name": "stdout",
     "output_type": "stream",
     "text": [
      "平均转化率： 0.20917979999999997\n",
      "转化率提升5%： 0.01045899\n",
      "转化率提升5%后： 0.21963878999999997\n"
     ]
    },
    {
     "data": {
      "text/plain": [
       "24168.887475377924"
      ]
     },
     "execution_count": 12,
     "metadata": {},
     "output_type": "execute_result"
    }
   ],
   "source": [
    "# 样本量计算 \n",
    "print(\"平均转化率：\",df['ratio'].mean())\n",
    "print(\"转化率提升5%：\",df['ratio'].mean()*0.05)\n",
    "print(\"转化率提升5%后：\",df['ratio'].mean()*1.05)\n",
    "tt_ind_solve_power(effect_size=es(prop1=0.2091798, prop2=0.21963879), alpha=0.05, power=0.8, ratio=1.0, alternative=\"two-sided\")\n"
   ]
  },
  {
   "cell_type": "code",
   "execution_count": 16,
   "metadata": {},
   "outputs": [
    {
     "data": {
      "text/plain": [
       "<matplotlib.legend.Legend at 0x1dc4d41e670>"
      ]
     },
     "execution_count": 16,
     "metadata": {},
     "output_type": "execute_result"
    },
    {
     "data": {
      "image/png": "[encoded data removed]",
      "text/plain": [
       "<Figure size 432x288 with 1 Axes>"
      ]
     },
     "metadata": {
      "needs_background": "light"
     },
     "output_type": "display_data"
    }
   ],
   "source": [
    "# 结果检验\n",
    "data_df={\n",
    "    'ratio_new':[0.20324,0.19301,0.21427,0.20777,0.20836,0.20266,0.207759,0.200588,0.198808,0.189438,0.207227,0.20823,0.207167],\n",
    "    'ratio_old':[0.198468,0.212332,0.211364,0.219309,0.207997,0.201348,0.21549,0.209222,0.187228,0.198169,0.217129,0.211271,0.21982]\n",
    "}\n",
    "df_af = pd.DataFrame(data_df)\n",
    "\n",
    "plt.plot(df_af['ratio_new'],marker = 'o',label = 'new')\n",
    "plt.plot(df_af['ratio_old'],marker = '*',label = 'old')\n",
    "plt.legend()\n"
   ]
  },
  {
   "cell_type": "code",
   "execution_count": 17,
   "metadata": {},
   "outputs": [
    {
     "name": "stdout",
     "output_type": "stream",
     "text": [
      "统计量： -1.4232640324468777\n",
      "P值： 0.15465962942318698\n"
     ]
    }
   ],
   "source": [
    "z_value, p_value = sw.ztest(df_af['ratio_new'],df_af['ratio_old'],alternative='two-sided')\n",
    "print('统计量：',z_value)\n",
    "print('P值：',p_value)"
   ]
  },
  {
   "cell_type": "code",
   "execution_count": null,
   "metadata": {},
   "outputs": [],
   "source": []
  }
 ],
 "metadata": {
  "kernelspec": {
   "display_name": "base",
   "language": "python",
   "name": "python3"
  },
  "language_info": {
   "codemirror_mode": {
    "name": "ipython",
    "version": 3
   },
   "file_extension": ".py",
   "mimetype": "text/x-python",
   "name": "python",
   "nbconvert_exporter": "python",
   "pygments_lexer": "ipython3",
   "version": "3.8.5 (default, Sep  3 2020, 21:29:08) [MSC v.1916 64 bit (AMD64)]"
  },
  "orig_nbformat": 4,
  "vscode": {
   "interpreter": {
    "hash": "a36ac3473f4f765ee1d32c07f947cfa193603dbfd7ba2aa7bf3e12c57f78d587"
   }
  }
 },
 "nbformat": 4,
 "nbformat_minor": 2
}
