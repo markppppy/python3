{
 "cells": [
  {
   "cell_type": "code",
   "execution_count": 9,
   "metadata": {},
   "outputs": [],
   "source": [
    "from selenium import webdriver\n",
    "from selenium.webdriver.chrome.service import Service\n",
    "from selenium.webdriver.common.by import By\n",
    "from selenium.webdriver.common.keys import Keys\n",
    "from selenium.webdriver.common.action_chains import ActionChains\n",
    "\n",
    "from bs4 import BeautifulSoup\n",
    "\n",
    "import os, time"
   ]
  },
  {
   "cell_type": "code",
   "execution_count": 3,
   "metadata": {},
   "outputs": [
    {
     "name": "stdout",
     "output_type": "stream",
     "text": [
      "北京酒店,北京酒店预订,北京宾馆住宿推荐-飞猪酒店\n"
     ]
    }
   ],
   "source": [
    "# 本机命令行指定端口运行浏览器 \n",
    "# cd C:\\Program Files (x86)\\Google\\Chrome\\Application\n",
    "os.chdir(r'C:\\Program Files (x86)\\Google\\Chrome\\Application')\n",
    "# chrome.exe -remote-debugging-port=9222\n",
    "cmd = 'chrome.exe -remote-debugging-port=9222'\n",
    "os.popen(cmd)\n",
    "\n",
    "# 调用已经打开的浏览器  \n",
    "s = Service(r\"C:\\Program Files (x86)\\Google\\Chrome\\Application\\chromedriver.exe\")\n",
    "options = webdriver.ChromeOptions()\n",
    "options.add_experimental_option(\"debuggerAddress\", \"127.0.0.1:9222\")\n",
    "driver = webdriver.Chrome(service=s,options=options)\n",
    "driver.get('https://hotel.fliggy.com/hotel_list3.htm')\n",
    "# 弹出页面后，看是否登录，如果没有，60秒内登录 验证 \n",
    "time.sleep(60)\n",
    "print(driver.title) "
   ]
  },
  {
   "cell_type": "code",
   "execution_count": 13,
   "metadata": {},
   "outputs": [],
   "source": [
    "# 目标：'门店名', '携程评分', '评价数量', '差评数量', '差评内容', '差评分数', '商家是否回复', '差评时间' \n",
    "# 网鱼电酒分布城市：上海市 杭州市 广州市 深圳市 武汉市 苏州市 南京市 长沙市 \n",
    "# 先输入 \"网鱼电竞酒店\" 然后输入城市名 回车 \n",
    "time.sleep(5)\n",
    "input_hotel_vague = driver.find_element(By.XPATH, '//div[@class=\"search-field pr10\"]/div/input')\n",
    "input_hotel_vague.send_keys(Keys.CONTROL, 'a')\n",
    "input_hotel_vague.send_keys('网鱼电竞酒店') \n",
    "ActionChains(driver).move_by_offset(200, 100).click().perform()  # 鼠标左键点击， 200为x坐标， 100为y坐标  .context_click() 鼠标右键\n",
    "input_city = driver.find_element(By.XPATH, '//div[@class=\"search-field pr30\"]/div/input')\n",
    "input_city.send_keys(Keys.CONTROL, 'a') \n",
    "input_city.send_keys('上海') \n",
    "time.sleep(1)\n",
    "input_city.send_keys(Keys.ENTER)\n",
    "time.sleep(3) \n",
    "# 依次点击页面中的酒店 \n",
    "# 获取总的搜索结果数  \n",
    "hotel_result_cnt = driver.find_element(By.XPATH, '//div[@class=\"head-result\"]/span').text \n",
    "# 当前页面搜索结果数 \n",
    "cur_hotel_lst = driver.find_elements(By.XPATH, '//h5[@class=\"row-title\"]/a')\n",
    "# TODO 需要判断是否翻页 \n",
    "# 获取酒店名 评分, 并点击 打分 跳转到评分页面 \n",
    "# 遍历每条评论，直到这条评论时间小于指定时间 ，获取 评论分数，评论时间，和小于等于3分的评论内容，和是否有商家回复 保存到字典 "
   ]
  },
  {
   "cell_type": "code",
   "execution_count": 26,
   "metadata": {},
   "outputs": [],
   "source": [
    "list = driver.find_elements(By.XPATH, '//h5[@class=\"row-title\"]/a') \n",
    "list[0].click()\n",
    "time.sleep(2)\n",
    "windows = driver.window_handles\n",
    "driver.switch_to.window(windows[-1]) \n",
    "# driver.close()\n",
    "# driver.switch_to.window(windows[0])"
   ]
  },
  {
   "cell_type": "code",
   "execution_count": 25,
   "metadata": {},
   "outputs": [],
   "source": [
    "driver.switch_to.window(windows[0])"
   ]
  },
  {
   "cell_type": "code",
   "execution_count": null,
   "metadata": {},
   "outputs": [],
   "source": [
    "<a href=\"//hotel.fliggy.com/hotel_detail2.htm?searchBy=&amp;market=0&amp;previousChannel=&amp;shid=56701041&amp;city=310100&amp;checkIn=2022-08-18&amp;checkOut=2022-08-19&amp;searchId=5444e18075f147b99dc3331d98b44aeb&amp;filterByRoomTickets=false&amp;activityCode=&amp;roomNum=1&amp;aNum_1=2&amp;cNum_1=0&amp;sellerId=&amp;sellerIds=\" target=\"_blank\">网鱼电竞酒店（上海松江万达店） </a>\n",
    "<a href=\"//hotel.fliggy.com/hotel_detail2.htm?searchBy=&amp;market=0&amp;previousChannel=&amp;shid=60778002&amp;city=310100&amp;checkIn=2022-08-18&amp;checkOut=2022-08-19&amp;searchId=5444e18075f147b99dc3331d98b44aeb&amp;filterByRoomTickets=false&amp;activityCode=&amp;roomNum=1&amp;aNum_1=2&amp;cNum_1=0&amp;sellerId=&amp;sellerIds=\" target=\"_blank\">网鱼电竞酒店（松江大学城店） </a>"
   ]
  }
 ],
 "metadata": {
  "kernelspec": {
   "display_name": "Python 3.9.7 64-bit",
   "language": "python",
   "name": "python3"
  },
  "language_info": {
   "codemirror_mode": {
    "name": "ipython",
    "version": 3
   },
   "file_extension": ".py",
   "mimetype": "text/x-python",
   "name": "python",
   "nbconvert_exporter": "python",
   "pygments_lexer": "ipython3",
   "version": "3.9.7"
  },
  "orig_nbformat": 4,
  "vscode": {
   "interpreter": {
    "hash": "74f335ae6b97dde617e7ea2e100c3e1b68f5809f61eff789eb0f069cb90855f1"
   }
  }
 },
 "nbformat": 4,
 "nbformat_minor": 2
}
