{
 "cells": [
  {
   "cell_type": "code",
   "execution_count": 1,
   "metadata": {},
   "outputs": [],
   "source": [
    "# 在网页端获取网鱼电酒(共用码、酒店名、城市)在美团 大众点评 飞猪 携程的分数、(时间段内)评论数量、差评数量、差评内容、差评分数、商家是否回复、差评时间 "
   ]
  },
  {
   "cell_type": "code",
   "execution_count": 2,
   "metadata": {},
   "outputs": [],
   "source": [
    "import pandas as pd \n",
    "import requests\n",
    "import hashlib \n",
    "import http.client\n",
    "import urllib\n",
    "\n"
   ]
  },
  {
   "cell_type": "markdown",
   "metadata": {},
   "source": [
    "问题:\n",
    "1. 美团网页端怎么看评论详情\n",
    "2. 我看附件中只有飞猪评分，飞猪的评论数量、差评相关数据也需要吗\n",
    "3. 大众点评网页端怎么看门店评分，需要评论数量和差评相关数据吗"
   ]
  },
  {
   "cell_type": "code",
   "execution_count": 3,
   "metadata": {},
   "outputs": [],
   "source": [
    "# 携程 分数、评论数量、差评数量、差评内容、差评分数、商家是否回复、差评时间\n",
    "# https://ebooking.ctrip.com/ebkovsmisc/ebooking/commentList?sourceId=1&status=NotFeedBack  点评页面 \n"
   ]
  },
  {
   "cell_type": "code",
   "execution_count": 3,
   "metadata": {},
   "outputs": [],
   "source": [
    "# 美团  分数(点评)、(时间段内)评论数量、差评数量、差评内容、差评分数、商家是否回复、差评时间\n",
    "# https://openapi.dianping.com/router/ugc/querystar  获取分数(美团和点评)\n",
    "# https://openapi.dianping.com/router/ugc/queryshopreview  (时间段内)评论数量、差评数量、差评内容、差评分数、差评时间 \n",
    "\n",
    "# session  e07b7774653e65d791854b27f7e64eeaa356df62  e033e187d32f99636456546c6546bf2e21ac1ea9  d176833b7bcf2d99a3b1bcc95f7d7b59fb49b294 \n",
    "def sign(param, appsecret, signmethod):\n",
    "    if signmethod !=\"MD5\":\n",
    "        return ''\n",
    "\n",
    "    lists = []\n",
    "    param_str = appsecret\n",
    "    for item in param:\n",
    "        lists.append(item)\n",
    "\n",
    "    lists.sort()\n",
    "\n",
    "    for key in lists:\n",
    "        param_str = param_str + key + param[key]\n",
    "\n",
    "    param_str += appsecret\n",
    "    param_str = param_str.strip()\n",
    "\n",
    "    return genMd5(param_str)\n",
    "\n",
    "\n",
    "def genMd5(str):\n",
    "    md5 = hashlib.md5()\n",
    "    # md5.update(str)\n",
    "    md5.update(str.encode(\"utf8\"))\n",
    "    md5.hexdigest()\n",
    "\n",
    "    return md5.hexdigest()\n",
    "\n"
   ]
  },
  {
   "cell_type": "code",
   "execution_count": null,
   "metadata": {},
   "outputs": [],
   "source": [
    "# def getSession():\n",
    "\"\"\"获取美团电酒session\"\"\"\n",
    "url ='https://openapi.dianping.com/router/oauth/token'\n",
    "param ={\n",
    "    'app_key':'',\n",
    "    'app_secret':'',\n",
    "    'auth_code':'',\n",
    "    'grant_type':'authorization_code',\n",
    "    'redirect_url':'https://www.wywk.cn/'\n",
    "} \n",
    "response = requests.post(url,params=param)\n",
    "result = response.json()\n",
    "result"
   ]
  },
  {
   "cell_type": "code",
   "execution_count": 7,
   "metadata": {},
   "outputs": [
    {
     "data": {
      "text/plain": [
       "b'{\"code\":637,\"msg\":\"refresh session\\xe5\\xb7\\xb2\\xe8\\xbf\\x87\\xe6\\x9c\\x9f\",\"access_token\":null,\"expires_in\":0,\"remain_refresh_count\":0,\"tokenType\":\"bearer\",\"scope\":null,\"scope_detail\":null,\"refresh_token\":null}'"
      ]
     },
     "execution_count": 7,
     "metadata": {},
     "output_type": "execute_result"
    }
   ],
   "source": [
    "def refreshToken():\n",
    "    \"\"\"refresh session\"\"\"\n",
    "    host = 'openapi.dianping.com'\n",
    "    appsecret = '91f307bee941af5bd5b2996550c2ad28903fdd8c'\n",
    "    params = {'app_key': \"a4736072e67904a8\", 'app_secret': \"91f307bee941af5bd5b2996550c2ad28903fdd8c\",\n",
    "              'refresh_token': \"57d70fc595ae492e5312117dcf7fa4ae2f4f5b72\", 'grant_type': \"refresh_token\"}\n",
    "    signstr = sign(params, appsecret, 'MD5')\n",
    "    params['sign'] = signstr\n",
    "    encode_params = urllib.parse.urlencode(params)\n",
    "    request_url = \"https://openapi.dianping.com/router/oauth/token\"\n",
    "    header = {\"Content-type\": \"application/x-www-form-urlencoded; charset=UTF-8\"}\n",
    "    conn = http.client.HTTPConnection(host)\n",
    "    conn.request(method=\"POST\", url=request_url, headers=header, body=encode_params)\n",
    "    response = conn.getresponse()\n",
    "    res = response.read()\n",
    "    return res\n",
    "\n",
    "# refreshToken()"
   ]
  },
  {
   "cell_type": "code",
   "execution_count": null,
   "metadata": {},
   "outputs": [],
   "source": [
    "\n",
    "# def get_mt_shop_info():\n",
    "\"\"\"获取session对应的有调用权限的门店列表\"\"\"\n",
    "url ='https://openapi.dianping.com/router/oauth/session/scope'\n",
    "param ={\n",
    "    'app_key':'a4736072e67904a8',\n",
    "    'sign_method':'MD5',\n",
    "    'timestamp':'2022-08-08 15:50:00',\n",
    "    'v':'1',\n",
    "    'format':'json',\n",
    "    'session':'e033e187d32f99636456546c6546bf2e21ac1ea9',\n",
    "    'bid':'4b5ae5bab11fb5771fb1924c7ebeb244',\n",
    "    'offset':'1',\n",
    "    'limit':'100'\n",
    "} \n",
    "param['sign'] = sign(param, '91f307bee941af5bd5b2996550c2ad28903fdd8c', 'MD5')\n",
    "response = requests.get(url,params=param)\n",
    "result = response.json()\n",
    "dct = {}\n",
    "for i in range(len(result['data'])):\n",
    "    dct['open_shop_uuid'] = result['data'][i]['open_shop_uuid']\n",
    "    dct['shopname'] = result['data'][i]['shopname'] + result['data'][i]['branchname']\n",
    "# if result['data'] is null or len(result['data']) < 100:\n",
    "#     break \n"
   ]
  },
  {
   "cell_type": "code",
   "execution_count": null,
   "metadata": {},
   "outputs": [],
   "source": [
    "# 门店id和店铺名存在 df[['open_shop_uuid', 'shopname']] 通过接口获取门店(美团/点评)评分 \n",
    "for i in [1, 2]:  # 1 点评 2 美团\n",
    "    \"\"\"通过id获取门店评分\"\"\"\n",
    "    url ='https://openapi.dianping.com/router/ugc/querystar'\n",
    "    param ={\n",
    "        'app_key':'',\n",
    "        'timestamp':'',\n",
    "        'session':'',\n",
    "        'format':'json',\n",
    "        'v':'1',\n",
    "        'sign_method':'MD5',\n",
    "        'open_shop_uuid':'',\n",
    "        'platform':i\n",
    "    } \n",
    "    param['sign'] = sign(param, '', 'MD5')\n",
    "    response = requests.post(url,params=param)\n",
    "    result = response.json()\n",
    "    result['data'][''] "
   ]
  },
  {
   "cell_type": "code",
   "execution_count": 8,
   "metadata": {},
   "outputs": [],
   "source": [
    "# 通过接口获(时间段内)评论数量、差评数量、差评内容、差评分数、差评时间  (取不到 商家是否回复) "
   ]
  },
  {
   "cell_type": "code",
   "execution_count": null,
   "metadata": {},
   "outputs": [],
   "source": [
    "# 飞猪 \n"
   ]
  }
 ],
 "metadata": {
  "kernelspec": {
   "display_name": "Python 3.9.7 64-bit",
   "language": "python",
   "name": "python3"
  },
  "language_info": {
   "codemirror_mode": {
    "name": "ipython",
    "version": 3
   },
   "file_extension": ".py",
   "mimetype": "text/x-python",
   "name": "python",
   "nbconvert_exporter": "python",
   "pygments_lexer": "ipython3",
   "version": "3.9.7"
  },
  "orig_nbformat": 4,
  "vscode": {
   "interpreter": {
    "hash": "74f335ae6b97dde617e7ea2e100c3e1b68f5809f61eff789eb0f069cb90855f1"
   }
  }
 },
 "nbformat": 4,
 "nbformat_minor": 2
}
