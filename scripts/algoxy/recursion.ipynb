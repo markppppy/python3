{
 "cells": [
  {
   "cell_type": "markdown",
   "metadata": {},
   "source": [
    "本节目标\n",
    "* 要理解可能难以解决的复杂问题有一个简单的递归解决方案。\n",
    "* 学习如何递归地写出程序。\n",
    "* 理解和应用递归的三个定律。\n",
    "* 将递归理解为一种迭代形式。\n",
    "* 实现问题的递归公式化。\n",
    "* 了解计算机系统如何实现递归。"
   ]
  },
  {
   "cell_type": "markdown",
   "metadata": {},
   "source": [
    "* 理解和应用递归的三个定律。\n",
    "1. 递归要求起始条件，即算法停止递归的时候\n",
    "2. 问题可以向起始条件靠拢\n",
    "3. 可以通过递归解决最终问题"
   ]
  },
  {
   "cell_type": "code",
   "execution_count": 1,
   "metadata": {},
   "outputs": [],
   "source": [
    "import turtle\n",
    "\n",
    "myTurtle = turtle.Turtle()\n",
    "myWin = turtle.Screen()\n",
    "\n",
    "def drawSpiral(myTurtle, lineLen):\n",
    "    if lineLen > 0:\n",
    "        myTurtle.forward(lineLen)\n",
    "        myTurtle.right(90)\n",
    "        drawSpiral(myTurtle,lineLen-5)\n",
    "\n",
    "drawSpiral(myTurtle,100)\n",
    "myWin.exitonclick()\n"
   ]
  },
  {
   "cell_type": "code",
   "execution_count": 2,
   "metadata": {},
   "outputs": [],
   "source": []
  },
  {
   "cell_type": "markdown",
   "metadata": {},
   "source": []
  }
 ],
 "metadata": {
  "kernelspec": {
   "display_name": "Python 3.9.7 64-bit",
   "language": "python",
   "name": "python3"
  },
  "language_info": {
   "codemirror_mode": {
    "name": "ipython",
    "version": 3
   },
   "file_extension": ".py",
   "mimetype": "text/x-python",
   "name": "python",
   "nbconvert_exporter": "python",
   "pygments_lexer": "ipython3",
   "version": "3.9.7"
  },
  "orig_nbformat": 4,
  "vscode": {
   "interpreter": {
    "hash": "74f335ae6b97dde617e7ea2e100c3e1b68f5809f61eff789eb0f069cb90855f1"
   }
  }
 },
 "nbformat": 4,
 "nbformat_minor": 2
}
